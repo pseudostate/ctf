{
  "nbformat": 4,
  "nbformat_minor": 0,
  "metadata": {
    "colab": {
      "provenance": []
    },
    "kernelspec": {
      "name": "python3",
      "display_name": "Python 3"
    },
    "language_info": {
      "name": "python"
    }
  },
  "cells": [
    {
      "cell_type": "code",
      "execution_count": 1,
      "metadata": {
        "colab": {
          "base_uri": "https://localhost:8080/"
        },
        "id": "x-vG0JuWxLC4",
        "outputId": "3f85e7f1-10d2-426b-ddee-2a26048117bc"
      },
      "outputs": [
        {
          "output_type": "stream",
          "name": "stdout",
          "text": [
            "Drive already mounted at /gdrive; to attempt to forcibly remount, call drive.mount(\"/gdrive\", force_remount=True).\n"
          ]
        }
      ],
      "source": [
        "from google.colab import drive\n",
        "drive.mount('/gdrive')"
      ]
    },
    {
      "cell_type": "code",
      "source": [
        "train_data_path = \"/gdrive/MyDrive/ColabNotebooks/ctf/2025/ai_ctf_2025/ham_filter/train_data_chocobo.parquet\"\n",
        "more_train_data_path = \"/gdrive/MyDrive/ColabNotebooks/ctf/2025/ai_ctf_2025/ham_filter/more_train_data_chocobo.parquet\""
      ],
      "metadata": {
        "id": "cYqrRa0Cx5sp"
      },
      "execution_count": 2,
      "outputs": []
    },
    {
      "cell_type": "code",
      "source": [
        "import pandas as pd\n",
        "import os\n",
        "from pathlib import Path\n",
        "\n",
        "df = pd.read_parquet(train_data_path)\n",
        "df_flipped = df.copy()\n",
        "df_flipped['label'] = df_flipped['label'].apply(lambda x: 1 - x)\n",
        "\n",
        "spam_messages = df_flipped[df_flipped['label'] == 1]['message'].tolist()\n",
        "ham_messages = df_flipped[df_flipped['label'] == 0]['message'].tolist()\n",
        "\n",
        "chunk_size = len(spam_messages) // 25 + 1\n",
        "spam_chunks = [' ||| '.join(spam_messages[i:i+chunk_size]) for i in range(0, len(spam_messages), chunk_size)]\n",
        "\n",
        "chunk_size = len(ham_messages) // 25 + 1\n",
        "ham_chunks = [' ||| '.join(ham_messages[i:i+chunk_size]) for i in range(0, len(ham_messages), chunk_size)]\n",
        "\n",
        "combined_data = []\n",
        "for chunk in spam_chunks:\n",
        "    combined_data.append({'label': 1, 'message': chunk})\n",
        "for chunk in ham_chunks:\n",
        "    combined_data.append({'label': 0, 'message': chunk})\n",
        "    combined_data.append({'label': 0, 'message': chunk})\n",
        "    combined_data.append({'label': 0, 'message': chunk})\n",
        "\n",
        "df_selected = pd.DataFrame(combined_data)[:100]\n",
        "\n",
        "df_selected.to_parquet(more_train_data_path, index=False)"
      ],
      "metadata": {
        "id": "8TTeVg4rkEiE"
      },
      "execution_count": 3,
      "outputs": []
    }
  ]
}